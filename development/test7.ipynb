{
 "cells": [
  {
   "cell_type": "code",
   "execution_count": 1,
   "metadata": {
    "raw_mimetype": "text/html"
   },
   "outputs": [
    {
     "data": {
      "text/html": [
       "<script>\n",
       "    var get_cell_style_html = function(cell_style){\n",
       "        if (cell_style == \"split\")\n",
       "            {return \"float:left; width:50%;\";}\n",
       "        return \"width:100%;\";\n",
       "    };\n",
       "\n",
       "    var update_cell_style_element = function(cell){\n",
       "        var cell_style_html = get_cell_style_html(cell.metadata.cell_style);\n",
       "        cell.element.attr('style', cell_style_html);\n",
       "    };\n",
       "\n",
       "    function initialize () {\n",
       "        // On Load lets set the cell styles correctly\n",
       "        var cells = Jupyter.notebook.get_cells();\n",
       "        var ncells = Jupyter.notebook.ncells();\n",
       "\n",
       "        for (var i=0; i<ncells; i++){\n",
       "            var cell = cells[i];\n",
       "            if (\"cell_style\" in cell.metadata){\n",
       "                update_cell_style_element(cell, cell.metadata.cell_style);\n",
       "            }\n",
       "         }\n",
       "    }\n",
       "\n",
       "    $(document).ready(initialize);\n",
       "\n",
       "</script>\n"
      ],
      "text/plain": [
       "<IPython.core.display.HTML object>"
      ]
     },
     "metadata": {},
     "output_type": "display_data"
    }
   ],
   "source": [
    "%%html\n",
    "<script>\n",
    "    var get_cell_style_html = function(cell_style){\n",
    "        if (cell_style == \"split\")\n",
    "            {return \"float:left; width:50%;\";}\n",
    "        return \"width:100%;\";\n",
    "    };\n",
    "\n",
    "    var update_cell_style_element = function(cell){\n",
    "        var cell_style_html = get_cell_style_html(cell.metadata.cell_style);\n",
    "        cell.element.attr('style', cell_style_html);\n",
    "    };\n",
    "\n",
    "    function initialize () {\n",
    "        // On Load lets set the cell styles correctly\n",
    "        var cells = Jupyter.notebook.get_cells();\n",
    "        var ncells = Jupyter.notebook.ncells();\n",
    "\n",
    "        for (var i=0; i<ncells; i++){\n",
    "            var cell = cells[i];\n",
    "            if (\"cell_style\" in cell.metadata){\n",
    "                update_cell_style_element(cell, cell.metadata.cell_style);\n",
    "            }\n",
    "         }\n",
    "    }\n",
    "\n",
    "    $(document).ready(initialize);\n",
    "\n",
    "</script>"
   ]
  },
  {
   "cell_type": "code",
   "execution_count": 2,
   "metadata": {
    "cell_style": "split"
   },
   "outputs": [
    {
     "name": "stdout",
     "output_type": "stream",
     "text": [
      "Hello world!\n"
     ]
    }
   ],
   "source": [
    "print(\"Hello world!\")"
   ]
  },
  {
   "cell_type": "code",
   "execution_count": 3,
   "metadata": {
    "cell_style": "split"
   },
   "outputs": [
    {
     "name": "stdout",
     "output_type": "stream",
     "text": [
      "Foobar!\n"
     ]
    }
   ],
   "source": [
    "print(\"Foobar!\")"
   ]
  },
  {
   "cell_type": "code",
   "execution_count": 4,
   "metadata": {
    "cell_style": "split"
   },
   "outputs": [
    {
     "name": "stdout",
     "output_type": "stream",
     "text": [
      "Foobar!\n"
     ]
    }
   ],
   "source": [
    "print(\"Foobar!\")"
   ]
  },
  {
   "cell_type": "code",
   "execution_count": 5,
   "metadata": {
    "cell_style": "split"
   },
   "outputs": [
    {
     "name": "stdout",
     "output_type": "stream",
     "text": [
      "Whatsamacallit\n"
     ]
    }
   ],
   "source": [
    "print(\"Whatsamacallit\")"
   ]
  }
 ],
 "metadata": {
  "celltoolbar": "Edit Metadata",
  "kernelspec": {
   "display_name": "Python 3",
   "language": "python",
   "name": "python3"
  },
  "language_info": {
   "codemirror_mode": {
    "name": "ipython",
    "version": 3
   },
   "file_extension": ".py",
   "mimetype": "text/x-python",
   "name": "python",
   "nbconvert_exporter": "python",
   "pygments_lexer": "ipython3",
   "version": "3.5.3"
  }
 },
 "nbformat": 4,
 "nbformat_minor": 2
}
