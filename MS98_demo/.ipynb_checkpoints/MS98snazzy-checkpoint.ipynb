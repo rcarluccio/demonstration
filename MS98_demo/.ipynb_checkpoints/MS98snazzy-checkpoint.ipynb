{
 "cells": [
  {
   "cell_type": "markdown",
   "metadata": {
    "cell_style": "center"
   },
   "source": [
    "# UNDERWORLD\n",
    "## Viscoplastic mantle convection\n",
    "###### Rohan Byrne (University of Melbourne) from Moresi and Solomatov, 1998"
   ]
  },
  {
   "cell_type": "markdown",
   "metadata": {},
   "source": [
    "How can one rheology unify lithospheric processes with mantle processes? In 1998, Moresi and Solomatov (1) demonstrated a simple but powerful viscoplastic approximation which allowed dynamic formation of a rigid, strain-localising upper boundary over a classic temperature-dependent viscous mantle. The surprising result was a versatile model that not only replicated Earth-like processes, but also changed the way we look at our sister planet Venus."
   ]
  },
  {
   "attachments": {},
   "cell_type": "markdown",
   "metadata": {
    "cell_style": "split"
   },
   "source": [
    "![plots.png](plots.png)\n",
    "\n",
    "*Nusselt number and VRMS against dimensionless time for the stagnant (green), episodic (orange), and mobile (blue) cases. All began from the same initial sinusoidal condition. The endmember cases form an envelope for the time-averaged behaviour of the intermediate case.*"
   ]
  },
  {
   "cell_type": "markdown",
   "metadata": {
    "cell_style": "split"
   },
   "source": [
    "*Below a nominal stress threshold, the viscosity is exponentially and inversely temperature dependant; above it, the viscosity becomes stress dependant, with the stress threshold itself determined by an absolute term, $\\tau_0$, and a depth-dependant term, $\\tau_1$.*\n",
    "\n",
    "| Rheology | Formula |\n",
    "| --- | --- |\n",
    "| **Creep viscosity** | $\\eta_{creep}(T) = \\Delta \\eta^{-T} $ <br> where <br> $\\Delta \\eta$ <br> is the mantle viscosity contrast |\n",
    "| **Plastic viscosity** | $\\eta_{yield}(D) = \\frac{\\tau_{yield}}{D} $ <br> where <br> $ \\tau_{yield} = \\tau_0 + \\tau_1 z $ <br> and <br> $D$ <br> is the second strain-rate invariant. |\n",
    "| **Combined viscosity** | $ \\eta = min (\\eta_{creep},  \\eta_{plastic}) $ |"
   ]
  },
  {
   "cell_type": "markdown",
   "metadata": {},
   "source": [
    "*Beginning with a sinusoidal initial state, most models quickly converge on steady-state endmembers. However, at intermediate values, the system achieves a stable but periodic state in which the lid cycles between mobile and stagnant in perpetuity. This is the 'episodic overturn' regime.*\n",
    "\n",
    "| Mobile regime: $\\tau_0 = 1e5$ | Episodic regime: $\\tau_0 = 4e5$ | Stagnant regime: $\\tau_0 = 1e6$ |\n",
    "| :---: | :---: | :---: |\n",
    "|![alt](mobile/fig.gif) | ![alt](episodic/fig.gif) | ![alt](stagnant/fig.gif)|"
   ]
  },
  {
   "cell_type": "markdown",
   "metadata": {
    "cell_style": "center"
   },
   "source": [
    "1) Moresi and Solomatov 1998, 'Mantle convection with a brittle lithosphere: thoughts on the global tectonic styles of the Earth and Venus', Geophysical Journal International, 133, 669–682"
   ]
  }
 ],
 "metadata": {
  "hide_input": true,
  "kernelspec": {
   "display_name": "Python 3",
   "language": "python",
   "name": "python3"
  },
  "language_info": {
   "codemirror_mode": {
    "name": "ipython",
    "version": 3
   },
   "file_extension": ".py",
   "mimetype": "text/x-python",
   "name": "python",
   "nbconvert_exporter": "python",
   "pygments_lexer": "ipython3",
   "version": "3.5.3"
  }
 },
 "nbformat": 4,
 "nbformat_minor": 2
}
