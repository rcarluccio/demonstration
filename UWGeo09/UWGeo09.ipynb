{
 "cells": [
  {
   "cell_type": "markdown",
   "metadata": {
    "cell_style": "center"
   },
   "source": [
    "# UNDERWORLD2 + UWGEO\n",
    "## Extensional reactivation of continental margins\n",
    "### l'Anson et al. 2018"
   ]
  },
  {
   "cell_type": "markdown",
   "metadata": {},
   "source": [
    "Traditionally, mechanical sandbox models have been used to explore basin evolution under a variety of tectonic regimes. **UWGeo** makes it easy to create 'digital sandboxes', delivering equally credible observations for a fraction of the cost in time, money, and effort."
   ]
  },
  {
   "cell_type": "markdown",
   "metadata": {
    "cell_style": "split"
   },
   "source": [
    "![Tutorial_9.gif](Tutorial_9.gif)\n",
    "\n",
    "*Onset of extension reproduces the same pattern of outboard grabens and near-board half-grabens observed in real passive margins.*"
   ]
  },
  {
   "cell_type": "markdown",
   "metadata": {
    "cell_style": "split"
   },
   "source": [
    "*The model setup is strictly empirical, with realistic density gradients and material-dependent rheology.*\n",
    "\n",
    "![LAnson2018.png](LAnson2018.png)"
   ]
  },
  {
   "cell_type": "markdown",
   "metadata": {
    "cell_style": "split"
   },
   "source": [
    "![iansonplot.png](iansonplot.png)\n",
    "\n",
    "*The depth at which stress localises is a function of the proportional model extension: greater extension causes a concentration of stress at shallower depths and in narrower bands.*"
   ]
  },
  {
   "cell_type": "markdown",
   "metadata": {
    "cell_style": "split"
   },
   "source": [
    "*The model is pinned on the right side and 'pulled' on the left side. The basement is given a much higher stress limit for plastic behaviour, causing it to remain ductile while the overburden fractures.*\n",
    "\n",
    "**Materials**\n",
    "\n",
    "| **Parameter** | **Sediment** | **Basement** |\n",
    "| --- | --- | --- |\n",
    "| *Density* | 2000 - 2800 kg / $m^3$ | 2500 - 2700 kg / $m^3$ |\n",
    "| *Viscosity* | $10^{22}$ Pa.s | $10^{22}$ Pa.s |\n",
    "| *Cohesion* | 30 MPa | 20 MPa |\n",
    "| *Stress limit* | 75 MPa | 150 MPa |\n",
    "\n",
    "**Boundary conditions**\n",
    "\n",
    "| **Variable** | **Condition** |\n",
    "| --- | --- |\n",
    "| *Temperature* | 293.15 - 1573.15 K |\n",
    "| *Velocity* | -3 - 0 cm/yr (walls), isostatic (floor) |"
   ]
  },
  {
   "cell_type": "markdown",
   "metadata": {
    "cell_style": "center"
   },
   "source": [
    "(REFERENCES)"
   ]
  }
 ],
 "metadata": {
  "hide_input": true,
  "kernelspec": {
   "display_name": "Python 3",
   "language": "python",
   "name": "python3"
  },
  "language_info": {
   "codemirror_mode": {
    "name": "ipython",
    "version": 3
   },
   "file_extension": ".py",
   "mimetype": "text/x-python",
   "name": "python",
   "nbconvert_exporter": "python",
   "pygments_lexer": "ipython3",
   "version": "3.5.3"
  }
 },
 "nbformat": 4,
 "nbformat_minor": 2
}
