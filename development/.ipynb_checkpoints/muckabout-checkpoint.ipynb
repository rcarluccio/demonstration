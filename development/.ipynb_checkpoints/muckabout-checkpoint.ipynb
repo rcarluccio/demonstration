{
 "cells": [
  {
   "cell_type": "code",
   "execution_count": 2,
   "metadata": {},
   "outputs": [
    {
     "data": {
      "text/html": [
       "\n",
       "\n",
       "<script type=\"text/Javascript\">\n",
       "\n",
       "var get_cell_style_html = function(cell_style){\n",
       "    if (cell_style == \"split\")\n",
       "        {return \"float:left; width:50%;\";}\n",
       "    return \"width:100%;\";\n",
       "};\n",
       "\n",
       "var update_cell_style_element = function(cell){\n",
       "    var cell_style_html = get_cell_style_html(cell.metadata.cell_style);\n",
       "    cell.element.attr('style', cell_style_html);\n",
       "};\n",
       "\n",
       "function initialize () {\n",
       "    // On Load lets set the cell styles correctly\n",
       "    var cells = Jupyter.notebook.get_cells();\n",
       "    var ncells = Jupyter.notebook.ncells();\n",
       "\n",
       "    for (var i=0; i<ncells; i++){\n",
       "        var cell = cells[i];\n",
       "        if (\"cell_style\" in cell.metadata){\n",
       "            update_cell_style_element(cell, cell.metadata.cell_style);\n",
       "        }\n",
       "     }\n",
       "}\n",
       "\n",
       "initialize()\n",
       "\n"
      ],
      "text/plain": [
       "<IPython.core.display.HTML object>"
      ]
     },
     "execution_count": 2,
     "metadata": {},
     "output_type": "execute_result"
    }
   ],
   "source": [
    "from IPython.display import HTML\n",
    "\n",
    "javascript = '''\n",
    "\n",
    "<script type=\"text/Javascript\">\n",
    "\n",
    "var get_cell_style_html = function(cell_style){\n",
    "    if (cell_style == \"split\")\n",
    "        {return \"float:left; width:50%;\";}\n",
    "    return \"width:100%;\";\n",
    "};\n",
    "\n",
    "var update_cell_style_element = function(cell){\n",
    "    var cell_style_html = get_cell_style_html(cell.metadata.cell_style);\n",
    "    cell.element.attr('style', cell_style_html);\n",
    "};\n",
    "\n",
    "function initialize () {\n",
    "    // On Load lets set the cell styles correctly\n",
    "    var cells = Jupyter.notebook.get_cells();\n",
    "    var ncells = Jupyter.notebook.ncells();\n",
    "\n",
    "    for (var i=0; i<ncells; i++){\n",
    "        var cell = cells[i];\n",
    "        if (\"cell_style\" in cell.metadata){\n",
    "            update_cell_style_element(cell, cell.metadata.cell_style);\n",
    "        }\n",
    "     }\n",
    "}\n",
    "\n",
    "initialize()\n",
    "\n",
    "'''\n",
    "\n",
    "HTML(javascript)"
   ]
  },
  {
   "cell_type": "markdown",
   "metadata": {
    "cell_style": "split"
   },
   "source": [
    "Hello world"
   ]
  },
  {
   "cell_type": "markdown",
   "metadata": {
    "cell_style": "split"
   },
   "source": [
    "Foo bar!"
   ]
  },
  {
   "cell_type": "markdown",
   "metadata": {},
   "source": [
    "What about this one?"
   ]
  },
  {
   "cell_type": "code",
   "execution_count": null,
   "metadata": {},
   "outputs": [],
   "source": []
  }
 ],
 "metadata": {
  "celltoolbar": "Edit Metadata",
  "kernelspec": {
   "display_name": "Python 3",
   "language": "python",
   "name": "python3"
  },
  "language_info": {
   "codemirror_mode": {
    "name": "ipython",
    "version": 3
   },
   "file_extension": ".py",
   "mimetype": "text/x-python",
   "name": "python",
   "nbconvert_exporter": "python",
   "pygments_lexer": "ipython3",
   "version": "3.5.3"
  }
 },
 "nbformat": 4,
 "nbformat_minor": 2
}
