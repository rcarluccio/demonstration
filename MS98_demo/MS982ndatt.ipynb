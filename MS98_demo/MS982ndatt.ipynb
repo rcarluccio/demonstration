{
 "cells": [
  {
   "cell_type": "raw",
   "metadata": {},
   "source": [
    "<script>\n",
    "  function code_toggle() {\n",
    "    if (code_shown){\n",
    "      $('div.input').hide('500');\n",
    "      $('#toggleButton').val('Show Code')\n",
    "    } else {\n",
    "      $('div.input').show('500');\n",
    "      $('#toggleButton').val('Hide Code')\n",
    "    }\n",
    "    code_shown = !code_shown\n",
    "  }\n",
    "\n",
    "  $( document ).ready(function(){\n",
    "    code_shown=false;\n",
    "    $('div.input').hide()\n",
    "  });\n",
    "</script>\n",
    "<form action=\"javascript:code_toggle()\"><input type=\"submit\" id=\"toggleButton\" value=\"Show Code\"></form>"
   ]
  },
  {
   "cell_type": "markdown",
   "metadata": {},
   "source": [
    "# UNDERWORLD\n",
    "## Viscoplastic mantle convection\n",
    "###### Rohan Byrne, University of Melbourne, 2019"
   ]
  },
  {
   "cell_type": "markdown",
   "metadata": {},
   "source": [
    "How can one rheology unify lithospheric processes with mantle processes? In 1998, Moresi and Solomatov (1) demonstrated a simple but powerful viscoplastic approximation which allowed dynamic formation of a rigid, strain-localising upper boundary over a classic temperature-dependent viscous mantle. The surprising result was a versatile model that not only replicated Earth-like processes, but also changed the way we look at our sister planet Venus."
   ]
  },
  {
   "cell_type": "markdown",
   "metadata": {},
   "source": [
    "### IN BRIEF"
   ]
  },
  {
   "cell_type": "markdown",
   "metadata": {},
   "source": [
    "The model uses a viscoplastic rheology. Below a nominal stress threshold, the viscosity is exponentially and inversely temperature dependant; above it, the viscosity becomes stress dependant, with the stress threshold itself determined by an absolute term, $\\tau_0$, and a depth-dependant term, $\\tau_1$. This allows stress to become localised, recreating the brittle deformation of the real lithosphere compared to the ductile deformation of the mantle."
   ]
  },
  {
   "cell_type": "markdown",
   "metadata": {},
   "source": [
    "| **Creep viscosity** | **Plastic viscosity** | **Effective viscosity** |\n",
    "| --- | --- | --- |\n",
    "| $\\eta_{creep}(T) = \\Delta \\eta^{-T} $ <br> where <br> $\\Delta \\eta$ <br> is the mantle viscosity contrast | $\\eta_{yield}(D) = \\frac{\\tau_{yield}}{D} $ <br> where <br> $ \\tau_{yield} = \\tau_0 + \\tau_1 z $ <br> and <br> $D$ <br> is the second strain-rate invariant. | $ \\eta = min (\\eta_{creep},  \\eta_{plastic}) $ |"
   ]
  },
  {
   "cell_type": "markdown",
   "metadata": {},
   "source": [
    "| Mobile regime: $\\tau_0 = 1e5$ | Episodic regime: $\\tau_0 = 4e5$ | Stagnant regime: $\\tau_0 = 1e6$ |\n",
    "| :---: | :---: | :---: |\n",
    "|![alt](mobile/fig.gif) | ![alt](episodic/fig.gif) | ![alt](stagnant/fig.gif)|\n",
    "\n",
    "*Beginning with a sinusoidal initial state, most models quickly converge on steady-state endmembers. However, at intermediate values, the system achieves a stable but periodic state in which the lid cycles between mobile and stagnant in perpetuity. This is the 'episodic overturn' regime.*"
   ]
  },
  {
   "cell_type": "markdown",
   "metadata": {},
   "source": [
    "Each mode is best characterised by the plot of its Nussel number - the dimensionless surface gradient - over time. The mobile and stagnant regimes each predominant over wide swathes of parameter space. Yet, within a narrow band of $\\tau_0$ values between regimes, the episodic regime arises."
   ]
  },
  {
   "cell_type": "code",
   "execution_count": null,
   "metadata": {},
   "outputs": [],
   "source": [
    "import numpy as np\n",
    "import matplotlib.pyplot as plt\n",
    "\n",
    "mobile_array = np.genfromtxt('mobile/zerodData.csv', delimiter=',')\n",
    "episodic_array = np.genfromtxt('episodic/zerodData.csv', delimiter=',')\n",
    "stagnant_array = np.genfromtxt('stagnant/zerodData.csv', delimiter=',')\n",
    "\n",
    "plt.figure(figsize = (15, 5))\n",
    "\n",
    "plt.subplot(1, 2, 1)\n",
    "ignoreme = plt.plot(mobile_array[:,2], mobile_array[:,3])\n",
    "ignoreme = plt.plot(episodic_array[:,2], episodic_array[:,3])\n",
    "ignoreme = plt.plot(stagnant_array[:,2], stagnant_array[:,3])\n",
    "ignoreme = plt.xlabel('Dimensionless time')\n",
    "ignoreme = plt.ylabel('Nusselt number')\n",
    "\n",
    "plt.subplot(1, 2, 2)\n",
    "ignoreme = plt.plot(mobile_array[:,2], mobile_array[:,6])\n",
    "ignoreme = plt.plot(episodic_array[:,2], episodic_array[:,6])\n",
    "ignoreme = plt.plot(stagnant_array[:,2], stagnant_array[:,6])\n",
    "ignoreme = plt.xlabel('Dimensionless time')\n",
    "ignoreme = plt.ylabel('VRMS')"
   ]
  },
  {
   "cell_type": "markdown",
   "metadata": {},
   "source": [
    "*Nusselt number and VRMS against dimensionless time for the stagnant (green), episodic (orange), and mobile (blue) cases. All began from the same initial sinusoidal condition. The endmember cases form an envelope for the time-averaged behaviour of the intermediate case.*"
   ]
  },
  {
   "cell_type": "markdown",
   "metadata": {},
   "source": [
    "Interestingly, each failure event is identical in Nusselt profile, exhibiting a steep spike and a long tail. The tail eventually converges on the stagnant steady-state line, while the time average of solely the peaks converges on the mobile steady-state value. In other words, the episodic regime relates to its neighbours by the frequency of failure events, smoothly converging on the stagnant state when spacing is great, and on the mobile state when spacing is small."
   ]
  },
  {
   "cell_type": "markdown",
   "metadata": {},
   "source": [
    "### MODEL"
   ]
  },
  {
   "cell_type": "markdown",
   "metadata": {},
   "source": [
    "**Underworld2** is a modern descendant of the code originally used for this groundbreaking study. Its robust framework, powerful solvers, and versatile design can make short work of even very complicated geophysical models.\n",
    "\n",
    "Hit **Show Code** to see how *Underworld* was used to reproduce and expand on these classic results."
   ]
  },
  {
   "cell_type": "code",
   "execution_count": null,
   "metadata": {},
   "outputs": [],
   "source": [
    "import planetengine\n",
    "\n",
    "import MS98ann_systemscript as systemscript\n",
    "import MS98ann_handlerscript as handlerscript\n",
    "import MS98ann_initialscript as initialscript\n",
    "\n",
    "suite_list = planetengine.suite_list({\n",
    "    'res': [64],\n",
    "    'tau0': [1e5, 4e5, 1e6],\n",
    "    })\n",
    "\n",
    "for row in suite_list:\n",
    "    model = planetengine.Model(\n",
    "        systemscript.build(**row),\n",
    "        handlerscript.build(),\n",
    "        initialscript.build(),\n",
    "        )\n",
    "\n",
    "    checkpointCondition = lambda: any([\n",
    "        model.status == 'pre-traverse',\n",
    "        model.step.value % 1000 == 0,\n",
    "        model.status == 'post-traverse',\n",
    "        ])\n",
    "    collectCondition = lambda: model.step.value % 10 == 0\n",
    "    stopCondition = lambda: model.modeltime.value > 0.6\n",
    "\n",
    "    model.traverse(stopCondition, collectCondition, checkpointCondition)"
   ]
  },
  {
   "cell_type": "markdown",
   "metadata": {},
   "source": [
    "1) Moresi and Solomatov 1998, 'Mantle convection with a brittle lithosphere: thoughts on the global tectonic styles of the Earth and Venus', Geophysical Journal International, 133, 669–682"
   ]
  }
 ],
 "metadata": {
  "hide_input": false,
  "kernelspec": {
   "display_name": "Python 3",
   "language": "python",
   "name": "python3"
  },
  "language_info": {
   "codemirror_mode": {
    "name": "ipython",
    "version": 3
   },
   "file_extension": ".py",
   "mimetype": "text/x-python",
   "name": "python",
   "nbconvert_exporter": "python",
   "pygments_lexer": "ipython3",
   "version": "3.5.3"
  }
 },
 "nbformat": 4,
 "nbformat_minor": 2
}
