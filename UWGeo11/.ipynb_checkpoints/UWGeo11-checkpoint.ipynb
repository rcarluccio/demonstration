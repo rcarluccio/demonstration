{
 "cells": [
  {
   "cell_type": "markdown",
   "metadata": {
    "cell_style": "center"
   },
   "source": [
    "# UNDERWORLD + BADLANDS\n",
    "## Coupling thermo-mechanics with surface processes\n",
    "### Romain Beucher"
   ]
  },
  {
   "cell_type": "markdown",
   "metadata": {},
   "source": [
    "Underworld's **Geodynamics** module couples well with **Badlands**, facilitating the rapid design and implementation of complex coupled models. This model demonstrates the feedbacks between erosional and isostatic drivers in a classic rifting scenario, using empirically-derived parameters and rheologies."
   ]
  },
  {
   "attachments": {},
   "cell_type": "markdown",
   "metadata": {
    "cell_style": "split"
   },
   "source": [
    "![Tutorial11.gif](Tutorial11.gif)\n",
    "\n",
    "*As the rift deepens due to extension applied at the boundaries, a slope steepness threshold is eventually reached where sedimentary transport into the newly-formed basin rapidly increases.*"
   ]
  },
  {
   "cell_type": "markdown",
   "metadata": {
    "cell_style": "split"
   },
   "source": [
    "*UWGeo makes it easy to define as many materials as required.*\n",
    "\n",
    "**Material parameters (sediments)**\n",
    "\n",
    "| **Parameter** | **Value** |\n",
    "| --- | --- |\n",
    "| *Density* | Constant (2300.0 kilogram / meter ** 3) |\n",
    "| *Radiogenic* | 0.6 microwatt / meter ** 3 |\n",
    "| *Diffusivity* | 1e-06 meter ** 2 / second |\n",
    "| *Capacity* | 1000.0 joule / kelvin / kilogram |\n",
    "| *Min Visc.* | None |\n",
    "| *Max Visc.* | None |\n",
    "\n",
    "**Rheology (sediments)**\n",
    "\n",
    "| **Component** | **Formula** |\n",
    "| --- | --- |\n",
    "| *Creep viscosity* | Wet Quartz, Viscous Dislocation Creep, <br> Gleason and Tullis, 1995 |\n",
    "| *Plastic viscosity* | Huismans et al. 2011, (Crust) |"
   ]
  },
  {
   "attachments": {},
   "cell_type": "markdown",
   "metadata": {},
   "source": [
    "| **Initial viscosity field** | **Initial damage field** |\n",
    "| :---: | :---: |\n",
    "| ![tutorial11viscosity.png](tutorial11viscosity.png) | ![damage.png](damage.png) |\n",
    "\n",
    "*The model design is a layer-cake comprising the mantle, mantle lithosphere, upper crust, and sediment layer, with a fictional 'sticky air' layer over the top to permit realistic topography without wasting processor time. A 'damage' parameter supports history-dependent viscosity: an initial damage field is applied along the desired rifting zone to ensure long-field forces nucleate in the middle of the domain.*"
   ]
  },
  {
   "cell_type": "markdown",
   "metadata": {
    "cell_style": "center"
   },
   "source": [
    "(REFERENCES)"
   ]
  }
 ],
 "metadata": {
  "hide_input": true,
  "kernelspec": {
   "display_name": "Python 3",
   "language": "python",
   "name": "python3"
  },
  "language_info": {
   "codemirror_mode": {
    "name": "ipython",
    "version": 3
   },
   "file_extension": ".py",
   "mimetype": "text/x-python",
   "name": "python",
   "nbconvert_exporter": "python",
   "pygments_lexer": "ipython3",
   "version": "3.5.3"
  }
 },
 "nbformat": 4,
 "nbformat_minor": 2
}
