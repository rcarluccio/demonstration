{
 "cells": [
  {
   "cell_type": "raw",
   "metadata": {
    "raw_mimetype": "text/html"
   },
   "source": [
    "<!--\n",
    "!!! LEAVE THIS CELL UNALTERED !!!\n",
    "If things won't render nicely,\n",
    "check that the 'type' of this cell\n",
    "is set to 'Raw NBConvert'.\n",
    "This cell's job is to make\n",
    "all the other cells look nice.\n",
    "-->\n",
    "\n",
    "<script>\n",
    "    $(document).ready(\n",
    "        function(){\n",
    "            $('div.input').hide()\n",
    "            }\n",
    "        )\n",
    "</script>\n",
    "<style>\n",
    "    div.cell{\n",
    "        float:left;\n",
    "        width:50%;\n",
    "    }\n",
    "</style>"
   ]
  },
  {
   "cell_type": "markdown",
   "metadata": {
    "cell_style": "center"
   },
   "source": [
    "# UNDERWORLD + UWGEO\n",
    "## Thrust wedges in the digital sandbox\n",
    "### Arijit Laik and Romain Beucher\n",
    "\n",
    "Compressional fold-thrust belts are common targets for resource exploration. Underworld's **Geodynamics** module can simulate prospective terrains in a **digital sandbox**, capturing the effects of varying basal drag, backstop offset, net shortening, and more.\n",
    "\n",
    "![Tutorial_10.gif](Tutorial_10.gif)"
   ]
  },
  {
   "cell_type": "markdown",
   "metadata": {
    "cell_style": "center"
   },
   "source": [
    "*This model implements a viscoplastic (Drucker-Prager) rheology under a basal-drag scenario. Careful design of the fictive basal layer allows the overlying, physically meaningful layers to behave naturally.*\n",
    "\n",
    "**System parameters**\n",
    "\n",
    "| **Parameter** | **Value** |\n",
    "| --- | --- |\n",
    "| *Velocity* | $1$ $cm$$/$$yr$ (left) |\n",
    "| *Model length* | $100$ $km$ |\n",
    "| *Grav. accel.* | $9.81$ $m/s^{2}$ |\n",
    "| *Numerical resolution* | $256$ * $128$ |\n",
    "\n",
    "**Model parameters**\n",
    "\n",
    "| **Parameter** | **Value** | **Parameter** | **Value** |\n",
    "| --- | --- | --- | --- |\n",
    "| *Density* | $2700$ $kg$$/$$m^{3}$ | *cohesion* | $20$ $MPa$ |\n",
    "| *Min Visc.* | $5$ * $10^{19}$ $Pa/s$ | *(...post-softening)* | $4$ $MPa$ |\n",
    "| *Max Visc.* | $10^{23}$ $Pa/s$ | *basal plasticity* | $0.1$ $MPa$"
   ]
  },
  {
   "cell_type": "markdown",
   "metadata": {
    "cell_style": "center"
   },
   "source": [
    "![Tutorial_10_bcs.png](Tutorial_10_bcs.png)\n",
    "\n",
    "*In laboratory sandbox compression models, a basal conveyor belt is used to deform sediment proxies by impelling them against a rigid backstop: the digital version is much the same.*"
   ]
  },
  {
   "cell_type": "raw",
   "metadata": {
    "raw_mimetype": "text/html"
   },
   "source": [
    "<!--\n",
    "vvv Run the cell below when you're done! vvv\n",
    "-->"
   ]
  },
  {
   "cell_type": "code",
   "execution_count": 3,
   "metadata": {},
   "outputs": [],
   "source": [
    "%%sh\n",
    "python ../../_atlas_update.py 2>/dev/null"
   ]
  }
 ],
 "metadata": {
  "celltoolbar": "Raw Cell Format",
  "hide_input": true,
  "kernelspec": {
   "display_name": "Python 3",
   "language": "python",
   "name": "python3"
  },
  "language_info": {
   "codemirror_mode": {
    "name": "ipython",
    "version": 3
   },
   "file_extension": ".py",
   "mimetype": "text/x-python",
   "name": "python",
   "nbconvert_exporter": "python",
   "pygments_lexer": "ipython3",
   "version": "3.5.3"
  }
 },
 "nbformat": 4,
 "nbformat_minor": 2
}
