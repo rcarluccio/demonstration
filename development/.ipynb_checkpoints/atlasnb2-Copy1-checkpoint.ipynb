{
 "cells": [
  {
   "cell_type": "markdown",
   "metadata": {},
   "source": [
    "Hello world!"
   ]
  },
  {
   "cell_type": "markdown",
   "metadata": {
    "cell_style": "split"
   },
   "source": [
    "Foo"
   ]
  },
  {
   "cell_type": "markdown",
   "metadata": {
    "cell_style": "split"
   },
   "source": [
    "Bar"
   ]
  },
  {
   "cell_type": "markdown",
   "metadata": {},
   "source": [
    "Hello again!"
   ]
  },
  {
   "cell_type": "code",
   "execution_count": 3,
   "metadata": {},
   "outputs": [
    {
     "data": {
      "text/html": [
       "<script type=\"text/Javascript\">\n",
       "\n",
       "var get_cell_style_html = function(cell_style){\n",
       "    if (cell_style == \"split\")\n",
       "        {return \"float:left; width:50%;\";}\n",
       "    return \"width:100%;\";\n",
       "};\n",
       "\n",
       "var update_cell_style_element = function(cell){\n",
       "    var cell_style_html = get_cell_style_html(cell.metadata.cell_style);\n",
       "    cell.element.attr('style', cell_style_html);\n",
       "};\n",
       "\n",
       "function initialize () {\n",
       "    // On Load lets set the cell styles correctly\n",
       "    var cells = Jupyter.notebook.get_cells();\n",
       "    var ncells = Jupyter.notebook.ncells();\n",
       "\n",
       "    for (var i=0; i<ncells; i++){\n",
       "        var cell = cells[i];\n",
       "        if (\"cell_style\" in cell.metadata){\n",
       "            update_cell_style_element(cell, cell.metadata.cell_style);\n",
       "        }\n",
       "     }\n",
       "}\n",
       "\n",
       "initialize()"
      ],
      "text/plain": [
       "<IPython.core.display.HTML object>"
      ]
     },
     "execution_count": 3,
     "metadata": {},
     "output_type": "execute_result"
    }
   ],
   "source": [
    "from IPython.core.display import HTML\n",
    "def styling():\n",
    "    script = open(\"atlasstyle.js\", \"r\").read()\n",
    "    return HTML(script)\n",
    "styling()"
   ]
  },
  {
   "cell_type": "code",
   "execution_count": null,
   "metadata": {},
   "outputs": [],
   "source": []
  }
 ],
 "metadata": {
  "celltoolbar": "Edit Metadata",
  "kernelspec": {
   "display_name": "Python 3",
   "language": "python",
   "name": "python3"
  },
  "language_info": {
   "codemirror_mode": {
    "name": "ipython",
    "version": 3
   },
   "file_extension": ".py",
   "mimetype": "text/x-python",
   "name": "python",
   "nbconvert_exporter": "python",
   "pygments_lexer": "ipython3",
   "version": "3.5.3"
  }
 },
 "nbformat": 4,
 "nbformat_minor": 2
}
