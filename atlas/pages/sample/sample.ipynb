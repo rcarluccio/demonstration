{
 "cells": [
  {
   "cell_type": "code",
   "execution_count": 16,
   "metadata": {},
   "outputs": [
    {
     "data": {
      "text/html": [
       "<style>div.cell{float:left;width:50%;}</style>"
      ],
      "text/plain": [
       "<IPython.core.display.HTML object>"
      ]
     },
     "execution_count": 16,
     "metadata": {},
     "output_type": "execute_result"
    }
   ],
   "source": [
    "### RUN THIS CELL FIRST ###\n",
    "# It will make everything\n",
    "# look nice while you're editing.\n",
    "from IPython.display import HTML\n",
    "HTML('''<style>div.cell{float:left;width:50%;}</style>''')"
   ]
  },
  {
   "cell_type": "code",
   "execution_count": 18,
   "metadata": {},
   "outputs": [],
   "source": [
    "#\n",
    "#\n",
    "#\n",
    "#\n",
    "#\n",
    "#\n",
    "#\n",
    "#"
   ]
  },
  {
   "cell_type": "raw",
   "metadata": {},
   "source": [
    "<!--\n",
    "README\n",
    "Time to make your new BGH Atlas page!\n",
    "Double-click on each of the six 'markdown' cells below\n",
    "(three on the left and three on the right)\n",
    "to replace the sample content with your own stuff.\n",
    "Re-run the cell to make it render nicely\n",
    "(this is how your page will appear\n",
    "in the final product).\n",
    "Be careful to make sure that adjacent cells\n",
    "are balanced in length.\n",
    "You can always chuck into extra blank lines like this:\n",
    "<br>\n",
    "When you're done, don't forget to run the code cell\n",
    "at the bottom  of this notebook\n",
    "to 'tie' your new page\n",
    "into the local copy of the Atlas.\n",
    "-->"
   ]
  },
  {
   "cell_type": "raw",
   "metadata": {},
   "source": [
    "<!--\n",
    "Ignore this cell!\n",
    "<br>\n",
    "-->\n",
    "<script>\n",
    "    $(document).ready(\n",
    "        function(){\n",
    "            $('div.input').hide();\n",
    "            $('div.output').hide();\n",
    "            }\n",
    "        )\n",
    "</script>\n",
    "<style>\n",
    "    div.cell{\n",
    "        float:left;\n",
    "        width:50%;\n",
    "    }\n",
    "</style>"
   ]
  },
  {
   "cell_type": "markdown",
   "metadata": {},
   "source": [
    "# NAME OF THE CODES YOU'RE USING (e.g. Badlands, Underworld)"
   ]
  },
  {
   "cell_type": "markdown",
   "metadata": {},
   "source": [
    "![BasinGensisHub.png](BasinGensisHub.png)"
   ]
  },
  {
   "cell_type": "markdown",
   "metadata": {},
   "source": [
    "## Name of the geological process being demonstrated\n",
    "### Names of people involved\n",
    "The content in the Atlas notebooks must be written in Markdown, which is a light-weight 'mark-up' (text-beautifying) language similar to HTML, but much easier. For tips on using Markdown, see this cheat sheet - and don't be afraid to cut-and-paste!: https://en.support.wordpress.com/markdown-quick-reference/\n",
    "\n",
    "This cell should contain the 'body' of the text for your Atlas page: intro, method, and results summary, all in brief."
   ]
  },
  {
   "cell_type": "markdown",
   "metadata": {},
   "source": [
    "![cat-sweet-kitty-animals-57416.jpeg](cat-sweet-kitty-animals-57416.jpeg)\n",
    "\n",
    "*You can insert an image by dragging and dropping it directly into the cell. However, if it's a local image, you're best off keeping it in the same directory as the notebook and referencing it with a local address (in the round brackets above).*"
   ]
  },
  {
   "cell_type": "markdown",
   "metadata": {},
   "source": [
    "![A scintillating gif of the Big Apple](https://media.giphy.com/media/11i1P8f3LsHp7y/giphy.gif)\n",
    "\n",
    "*You can embed a gif or image from any source on the internet by simply copy-pasting the url of the image into the round brackets here. Again, any mouse-over text goes in the square brackets.*"
   ]
  },
  {
   "cell_type": "markdown",
   "metadata": {},
   "source": [
    "| **Column A** | **Column B** | **Column C** |\n",
    "| --- | --- | --- |\n",
    "| This is how | you make a table | using Markdown. |\n",
    "| Nice | and | easy! |\n",
    "| Now | some | data: |\n",
    "| 0 | 0 | 1 |\n",
    "| 0 | 1 | 0 |\n",
    "| 1 | 0 | 0 |\n",
    "\n",
    "*A caption for the above. Below, a lovely LaTeX expression:*\n",
    "\n",
    "$\\eta_{creep}(T) = \\Delta \\eta^{-T} $\n",
    "\n",
    "*Now, this cell is just a tad on the short side compared to the cell to the left of it, so let's chuck in a blank line using this tiny bit of html:*\n",
    "\n",
    "<br>"
   ]
  },
  {
   "cell_type": "markdown",
   "metadata": {},
   "source": [
    "---\n",
    "\n",
    "**CITATIONS**\n",
    "\n",
    "* Citation 1\n",
    "* Citation 2"
   ]
  },
  {
   "cell_type": "markdown",
   "metadata": {},
   "source": [
    "---\n",
    "\n",
    "**LINKS**\n",
    "\n",
    "A link to the Wikipedia page for baked beans:\n",
    "[text of the link](https://en.wikipedia.org/wiki/Baked_beans)\n",
    "<br>\n",
    "<br>\n",
    "<br>"
   ]
  },
  {
   "cell_type": "markdown",
   "metadata": {},
   "source": [
    "\n",
    "<br>\n",
    "<br>\n",
    "\n",
    "![BasinGensisHub.png](BasinGensisHub.png)\n",
    "\n",
    "<br>\n",
    "<br>\n",
    "<br>\n",
    "<br>"
   ]
  },
  {
   "cell_type": "markdown",
   "metadata": {},
   "source": [
    "> *The ARC Research Hub for Basin Geodynamics and Evolution of Sedimentary Systems (**Basin GENESIS Hub**) is a showcase of connecting \"Big Data\" analysis and high-performance computing in an open innovation framework. The hub is fusing multidimensional data into 5D basin models (space and time, with uncertainty estimates) by coupling the evolution of mantle flow, crustal deformation, erosion, and sedimentary processes using open-source modelling tools.*"
   ]
  },
  {
   "cell_type": "code",
   "execution_count": 21,
   "metadata": {},
   "outputs": [],
   "source": [
    "### RUN THIS CELL WHEN YOU'RE DONE ###\n",
    "# It will bind this notebook\n",
    "# into the local copy of the BGH Atlas\n",
    "# (don't forget to 'git push' to the repo\n",
    "# once you're finished)\n",
    "import sys\n",
    "import os\n",
    "import importlib\n",
    "atlasHomeDir = os.path.join('..', '..')\n",
    "sys.path.append(atlasHomeDir)\n",
    "import _atlas_update\n",
    "ignoreme = importlib.reload(_atlas_update)"
   ]
  },
  {
   "cell_type": "code",
   "execution_count": null,
   "metadata": {},
   "outputs": [],
   "source": [
    "#"
   ]
  }
 ],
 "metadata": {
  "kernelspec": {
   "display_name": "Python 3",
   "language": "python",
   "name": "python3"
  },
  "language_info": {
   "codemirror_mode": {
    "name": "ipython",
    "version": 3
   },
   "file_extension": ".py",
   "mimetype": "text/x-python",
   "name": "python",
   "nbconvert_exporter": "python",
   "pygments_lexer": "ipython3",
   "version": "3.7.3"
  }
 },
 "nbformat": 4,
 "nbformat_minor": 2
}
