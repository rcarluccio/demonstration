{
 "cells": [
  {
   "cell_type": "raw",
   "metadata": {
    "raw_mimetype": "text/html"
   },
   "source": [
    "<!--\n",
    "!!! LEAVE THIS CELL UNALTERED !!!\n",
    "If things won't render nicely,\n",
    "check that the 'type' of this cell\n",
    "is set to 'Raw NBConvert'.\n",
    "This cell's job is to make\n",
    "all the other cells look nice.\n",
    "-->\n",
    "\n",
    "<script>\n",
    "    $(document).ready(\n",
    "        function(){\n",
    "            $('div.input').hide()\n",
    "            }\n",
    "        )\n",
    "</script>\n",
    "<style>\n",
    "    div.cell{\n",
    "        float:left;\n",
    "        width:50%;\n",
    "    }\n",
    "</style>"
   ]
  },
  {
   "cell_type": "markdown",
   "metadata": {
    "cell_style": "center"
   },
   "source": [
    "# UNDERWORLD + UWGEO\n",
    "## Rift evolution\n",
    "### Romain Beucher\n",
    "**UWGeodynamics** approaches model construction in an intuitive way. Here, a realistic rifting zone is elegantly implemented using five materials, a simple horizontal boundary condition, and a viscoplastic rheology defined in a single line of code."
   ]
  },
  {
   "cell_type": "markdown",
   "metadata": {},
   "source": [
    "![Tutorial1.gif](Tutorial1.gif)\n",
    "\n",
    "*The model delivers realistic conjugate faulting which gets more severe with proximity to the rift axis. Application of a horizontal velocity boundary condition on the side walls is enough to trigger rifting at the centre of the domain.*"
   ]
  },
  {
   "cell_type": "markdown",
   "metadata": {
    "cell_style": "split"
   },
   "source": [
    "![tutorial1viscfield.png](tutorial1viscfield.png)\n",
    "![tutorial1strainfield.png](tutorial1strainfield.png)"
   ]
  },
  {
   "cell_type": "markdown",
   "metadata": {
    "cell_style": "split"
   },
   "source": [
    "<img src=\"tutorial1viscplot.png\" alt=\"tutorial1viscplot\" width=\"250\"/>\n",
    "\n",
    "*The code is robust enough to handle substantial rheological contrasts, allowing a 'set-and-forget' approach to building models without the need for numerical artifice.*"
   ]
  },
  {
   "cell_type": "raw",
   "metadata": {
    "raw_mimetype": "text/html"
   },
   "source": [
    "<!--\n",
    "vvv Run the cell below when you're done! vvv\n",
    "-->"
   ]
  },
  {
   "cell_type": "code",
   "execution_count": 1,
   "metadata": {},
   "outputs": [],
   "source": [
    "%%sh\n",
    "python ../../_atlas_update.py 2>/dev/null"
   ]
  }
 ],
 "metadata": {
  "celltoolbar": "Raw Cell Format",
  "hide_input": true,
  "kernelspec": {
   "display_name": "Python 3",
   "language": "python",
   "name": "python3"
  },
  "language_info": {
   "codemirror_mode": {
    "name": "ipython",
    "version": 3
   },
   "file_extension": ".py",
   "mimetype": "text/x-python",
   "name": "python",
   "nbconvert_exporter": "python",
   "pygments_lexer": "ipython3",
   "version": "3.5.3"
  }
 },
 "nbformat": 4,
 "nbformat_minor": 2
}
