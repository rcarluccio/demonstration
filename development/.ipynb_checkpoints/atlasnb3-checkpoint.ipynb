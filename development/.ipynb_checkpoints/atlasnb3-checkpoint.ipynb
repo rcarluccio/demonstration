{
 "cells": [
  {
   "cell_type": "raw",
   "metadata": {},
   "source": [
    "<script>\n",
    "$('div.input').hide('500')\n",
    "</script>"
   ]
  },
  {
   "cell_type": "raw",
   "metadata": {},
   "source": [
    "<script>$(document).ready($('div.input').hide())</script>"
   ]
  },
  {
   "cell_type": "raw",
   "metadata": {},
   "source": [
    "<script>\n",
    "    $(document).ready(\n",
    "        function(){\n",
    "            $('div.input').hide();\n",
    "            var cells = Jupyter.notebook.get_cells();\n",
    "            var ncells = Jupyter.notebook.ncells();\n",
    "            var get_cell_style_html = function(cell_style){\n",
    "                if (cell_style == \"split\")\n",
    "                    {return \"float:left; width:50%;\";}\n",
    "                return \"width:100%;\";\n",
    "            };\n",
    "            var update_cell_style_element = function(cell){\n",
    "                var cell_style_html = get_cell_style_html(cell.metadata.cell_style);\n",
    "                cell.element.attr('style', cell_style_html);\n",
    "            };\n",
    "            for (var i=0; i<ncells; i++){\n",
    "                var cell = cells[i];\n",
    "                if (\"cell_style\" in cell.metadata){\n",
    "                    update_cell_style_element(cell, cell.metadata.cell_style);\n",
    "                }\n",
    "            }\n",
    "        );\n",
    "</script>"
   ]
  },
  {
   "cell_type": "markdown",
   "metadata": {},
   "source": [
    "<script>\n",
    "    $(document).ready(\n",
    "        function(){\n",
    "            $('div.input').hide();\n",
    "            var cells = Jupyter.notebook.get_cells();\n",
    "            var ncells = Jupyter.notebook.ncells();\n",
    "            var get_cell_style_html = function(cell_style){\n",
    "                if (cell_style == \"split\")\n",
    "                    {return \"float:left; width:50%;\";}\n",
    "                return \"width:100%;\";\n",
    "            };\n",
    "            var update_cell_style_element = function(cell){\n",
    "                var cell_style_html = get_cell_style_html(cell.metadata.cell_style);\n",
    "                cell.element.attr('style', cell_style_html);\n",
    "            };\n",
    "            for (var i=0; i<ncells; i++){\n",
    "                var cell = cells[i];\n",
    "                if (\"cell_style\" in cell.metadata){\n",
    "                    update_cell_style_element(cell, cell.metadata.cell_style);\n",
    "                }\n",
    "            }\n",
    "        );\n",
    "</script>"
   ]
  },
  {
   "cell_type": "code",
   "execution_count": null,
   "metadata": {},
   "outputs": [],
   "source": [
    "#<form action=\"javascript:code_toggle()\"><input type=\"submit\" id=\"toggleButton\" value=\"Show Code\"></form>"
   ]
  },
  {
   "cell_type": "code",
   "execution_count": 3,
   "metadata": {},
   "outputs": [
    {
     "name": "stdout",
     "output_type": "stream",
     "text": [
      "Hello world!\n"
     ]
    }
   ],
   "source": [
    "print(\"Hello world!\")"
   ]
  },
  {
   "cell_type": "markdown",
   "metadata": {},
   "source": [
    "<style>\n",
    "    div.cell{\n",
    "        float:left;\n",
    "    }\n",
    "</style>\n",
    "<style>\n",
    "    div.wide{\n",
    "        background-color: #fcf2f2;\n",
    "        width:100%;\n",
    "        float:left;\n",
    "    }\n",
    "</style>\n",
    "<style>\n",
    "    div.narrow{\n",
    "        background-color: #dFb5b4;\n",
    "        width:50%;\n",
    "        float:left;\n",
    "    }\n",
    "</style>\n",
    "<style>\n",
    "    div.right{\n",
    "        background-color: #dFb5b4;\n",
    "        width:50%;\n",
    "        float:right;\n",
    "    }\n",
    "</style>"
   ]
  },
  {
   "cell_type": "markdown",
   "metadata": {},
   "source": [
    "<div class=wide>\n",
    "I am a wide cell! LOOK AT ME!!!!!!!!!!!!!!!!!!!!!!!!!!!!!!!!!!!!!!!!!!!!!!!!!!!!!!!!\n",
    "    asdfsadf\n",
    "    adsf\n",
    "</div>"
   ]
  },
  {
   "cell_type": "markdown",
   "metadata": {},
   "source": [
    "<div class=narrow>\n",
    "I am a narrow cell.\n",
    "    adsf\n",
    "    asdf\n",
    "</div>"
   ]
  },
  {
   "cell_type": "markdown",
   "metadata": {},
   "source": [
    "<div class=wide>\n",
    "I am a wide cell! LOOK AT ME!!!!!!!!!!!!!!!!!!!!!!!!!!!!!!!!!!!!!!!!!!!!!!!!!!!!!!!!\n",
    "</div>"
   ]
  },
  {
   "cell_type": "markdown",
   "metadata": {},
   "source": [
    "<div class=narrow>\n",
    "I am a narrow cell.\n",
    "asdf\n",
    "asdf\n",
    "asfd\n",
    "asdfaaaaaaaaaaaaaaaaaaaaaaaaaaaaaaaaaaaaaaaaaaaaaaaaaaa aaaaaaaaaaaaaaaaaaaaazzzzzzzzzzzzzzzzzzzzzzzz zzzzzzzzzzzzzzzzzzzzzzzzzzzzzzzzzzzzzzzzzzzzzzzzz\n",
    "</div>"
   ]
  },
  {
   "cell_type": "markdown",
   "metadata": {},
   "source": [
    "<div class=right>\n",
    "I am a narrow cell.\n",
    "</div>"
   ]
  },
  {
   "cell_type": "markdown",
   "metadata": {},
   "source": [
    "<div class=right>\n",
    "zzzzzzzzzzzzzzzzzzzzzzzzzzzzzzzzzzzzzzzzzzzzzzzzzzzzzzzzzzzzzzzzzzzzzzzzzzzzzzzzzzzzzzzzzzzzzzzzzzzzzzzzzzzzzzzzzzzzzzzzzzzzzzzzzzzzzzzzzzzzzzzzzzzzzzzzzzzzzzzzzzzzzzzzzzzzzzzzzzzzzzzzzzzzzzzzzzzzzzzzzzzzzzzzzzzzzzzzzzzzzzzzzzzzzzzzzzzzzzzzzz\n",
    "</div>"
   ]
  },
  {
   "cell_type": "code",
   "execution_count": null,
   "metadata": {},
   "outputs": [],
   "source": []
  }
 ],
 "metadata": {
  "kernelspec": {
   "display_name": "Python 3",
   "language": "python",
   "name": "python3"
  },
  "language_info": {
   "codemirror_mode": {
    "name": "ipython",
    "version": 3
   },
   "file_extension": ".py",
   "mimetype": "text/x-python",
   "name": "python",
   "nbconvert_exporter": "python",
   "pygments_lexer": "ipython3",
   "version": "3.5.3"
  }
 },
 "nbformat": 4,
 "nbformat_minor": 2
}
