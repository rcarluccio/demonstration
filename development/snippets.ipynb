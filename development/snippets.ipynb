{
 "cells": [
  {
   "cell_type": "markdown",
   "metadata": {},
   "source": [
    "%%javascript\n",
    "\n",
    "var cell = Jupyter.notebook.get_selected_cell();\n",
    "cell.element.attr('style', \"width:100%;\");"
   ]
  },
  {
   "cell_type": "markdown",
   "metadata": {},
   "source": [
    "from IPython.core.display import HTML\n",
    "def css_styling():\n",
    "    styles = open(\"custom.css\", \"r\").read()\n",
    "    return HTML(styles)\n",
    "css_styling()"
   ]
  },
  {
   "cell_type": "markdown",
   "metadata": {},
   "source": [
    "In the above case, custom.css is:\n",
    "\n",
    "<style>\n",
    "    div.cell{\n",
    "        float:left;\n",
    "        width:50%;\n",
    "        margin-left:1%;\n",
    "        margin-right:auto;\n",
    "    }\n",
    "</style>"
   ]
  },
  {
   "cell_type": "markdown",
   "metadata": {},
   "source": [
    "%%html\n",
    "<style>\n",
    "    div.cell{\n",
    "        float:left;\n",
    "        width:50%;\n",
    "        margin-left:1%;\n",
    "        margin-right:auto;\n",
    "    }\n",
    "</style>"
   ]
  },
  {
   "cell_type": "markdown",
   "metadata": {},
   "source": [
    "js = open(\"splitcell.js\", \"r\").read()\n",
    "display(HTML(js))"
   ]
  },
  {
   "cell_type": "markdown",
   "metadata": {},
   "source": [
    "from IPython.display import HTML\n",
    "\n",
    "scr = '''\n",
    "    <script>\n",
    "        code_show=true; \n",
    "        function code_toggle() {\n",
    "         if (code_show){\n",
    "         $('div.input').hide();\n",
    "         } else {\n",
    "         $('div.input').show();\n",
    "         }\n",
    "         code_show = !code_show\n",
    "        } \n",
    "        $(document).ready(code_toggle);\n",
    "    </script>\n",
    "    <form action=\"javascript:code_toggle()\">\n",
    "    <input type=\"submit\" value=\"Click here to toggle on/off the raw code.\">\n",
    "    </form>\n",
    "    '''\n",
    "\n",
    "HTML(scr)"
   ]
  },
  {
   "cell_type": "markdown",
   "metadata": {},
   "source": [
    "Note to self: the $ is actually syntactic sugar for:\n",
    "document.getElementById();"
   ]
  },
  {
   "cell_type": "markdown",
   "metadata": {},
   "source": [
    "style = '''\n",
    "    <div style=\"background-color:lightblue\">\n",
    "      <h3>This is a heading</h3>\n",
    "      <p>This is a paragraph.</p>\n",
    "    </div>\n",
    "    '''\n",
    "HTML(style)"
   ]
  },
  {
   "cell_type": "markdown",
   "metadata": {},
   "source": [
    "%%javascript\n",
    "\n",
    "var get_cell_style_html = function(cell_style){\n",
    "    if (cell_style == \"split\")\n",
    "        {return \"float:left; width:50%;\";}\n",
    "    return \"width:100%;\";\n",
    "};\n",
    "\n",
    "var update_cell_style_element = function(cell){\n",
    "    var cell_style_html = get_cell_style_html(cell.metadata.cell_style);\n",
    "    cell.element.attr('style', cell_style_html);\n",
    "};\n",
    "\n",
    "function initialize () {\n",
    "    // On Load lets set the cell styles correctly\n",
    "    var cells = Jupyter.notebook.get_cells();\n",
    "    var ncells = Jupyter.notebook.ncells();\n",
    "\n",
    "    for (var i=0; i<ncells; i++){\n",
    "        var cell = cells[i];\n",
    "        if (\"cell_style\" in cell.metadata){\n",
    "            update_cell_style_element(cell, cell.metadata.cell_style);\n",
    "        }\n",
    "     }\n",
    "}\n",
    "\n",
    "initialize()"
   ]
  },
  {
   "cell_type": "markdown",
   "metadata": {},
   "source": [
    "%%html\n",
    "<style>\n",
    "    div.cell{\n",
    "        float:left;\n",
    "        width:50%;\n",
    "    }\n",
    "</style>"
   ]
  },
  {
   "cell_type": "markdown",
   "metadata": {},
   "source": [
    "from IPython.core.display import HTML\n",
    "\n",
    "style = '''\n",
    "    <style>\n",
    "    div.warn{    \n",
    "        background-color: #fcf2f2;\n",
    "        border-color: #dFb5b4;\n",
    "        border-left: 5px solid #dfb5b4;\n",
    "        padding: 0.5em;\n",
    "        }\n",
    "    </style>\n",
    "    '''\n",
    "\n",
    "HTML(style)\n",
    "\n",
    "Run the above in a code cell, and the below in a separate markdown cell:\n",
    "\n",
    "<div class=warn>\n",
    "**Warning:** remember to do bookeping  \n",
    "<div/>"
   ]
  },
  {
   "cell_type": "markdown",
   "metadata": {},
   "source": [
    "{'cell_tags': {'cutcode_html': true}}\n",
    "The following sucessfully removes the 'In' prompt:\n",
    "\n",
    "{% block input_group %}\n",
    " {% if cell['metadata'].get('cell_tags',{}).get('cutcode_html','') == True -%}\n",
    "  <div></div>\n",
    " {% else %}\n",
    "  {{ super() }}\n",
    " {% endif %}\n",
    "{% endblock input_group %}"
   ]
  },
  {
   "cell_type": "markdown",
   "metadata": {},
   "source": [
    "%%html\n",
    "<script>\n",
    "  $('div.prompt').hide()\n",
    "  function code_toggle() {\n",
    "    if (code_shown){\n",
    "      $('div.input').hide('500');\n",
    "      $('#toggleButton').val('Show Code')\n",
    "    } else {\n",
    "      $('div.input').show('500');\n",
    "      $('#toggleButton').val('Hide Code')\n",
    "    }\n",
    "    code_shown = !code_shown\n",
    "  }\n",
    "\n",
    "  $( document ).ready(function(){\n",
    "    code_shown=false;\n",
    "    $('div.input').hide()\n",
    "  });\n",
    "</script>\n",
    "<form action=\"javascript:code_toggle()\"><input type=\"submit\" id=\"toggleButton\" value=\"Show Code\"></form>"
   ]
  },
  {
   "cell_type": "code",
   "execution_count": null,
   "metadata": {},
   "outputs": [],
   "source": []
  }
 ],
 "metadata": {
  "kernelspec": {
   "display_name": "Python 3",
   "language": "python",
   "name": "python3"
  },
  "language_info": {
   "codemirror_mode": {
    "name": "ipython",
    "version": 3
   },
   "file_extension": ".py",
   "mimetype": "text/x-python",
   "name": "python",
   "nbconvert_exporter": "python",
   "pygments_lexer": "ipython3",
   "version": "3.7.3"
  }
 },
 "nbformat": 4,
 "nbformat_minor": 2
}
