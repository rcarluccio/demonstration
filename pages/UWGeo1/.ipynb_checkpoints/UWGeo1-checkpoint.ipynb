{
 "cells": [
  {
   "cell_type": "markdown",
   "metadata": {
    "cell_style": "center"
   },
   "source": [
    "# UNDERWORLD + UWGEO\n",
    "## Rift evolution\n",
    "### Romain Beucher"
   ]
  },
  {
   "cell_type": "markdown",
   "metadata": {},
   "source": [
    "**UWGeodynamics** approaches model construction in an intuitive way. Here, a realistic rifting zone is elegantly implemented using five materials, a simple horizontal boundary condition, and a viscoplastic rheology defined in a single line of code. The result captures all the classic features of a real rift."
   ]
  },
  {
   "attachments": {},
   "cell_type": "markdown",
   "metadata": {},
   "source": [
    "![Tutorial1.gif](Tutorial1.gif)"
   ]
  },
  {
   "attachments": {},
   "cell_type": "markdown",
   "metadata": {
    "cell_style": "split"
   },
   "source": [
    "*The code is robust enough to handle substantial rheological contrasts, allowing a 'set-and-forget' approach to building models without the need for numerical artifice. In this model, only the 'sticky air' layer is without physical meaning.*\n",
    "\n",
    "<img src=\"tutorial1viscplot.png\" alt=\"tutorial1viscplot\" width=\"300\"/>"
   ]
  },
  {
   "attachments": {},
   "cell_type": "markdown",
   "metadata": {
    "cell_style": "split"
   },
   "source": [
    "![tutorial1viscfield.png](tutorial1viscfield.png)\n",
    "![tutorial1strainfield.png](tutorial1strainfield.png)\n",
    "\n",
    "*The model delivers realistic conjugate faulting which gets more severe with proximity to the rift axis. Application of a horizontal velocity boundary condition on the side walls is enough to trigger rifting at the centre of the domain.*"
   ]
  }
 ],
 "metadata": {
  "hide_input": true,
  "kernelspec": {
   "display_name": "Python 3",
   "language": "python",
   "name": "python3"
  },
  "language_info": {
   "codemirror_mode": {
    "name": "ipython",
    "version": 3
   },
   "file_extension": ".py",
   "mimetype": "text/x-python",
   "name": "python",
   "nbconvert_exporter": "python",
   "pygments_lexer": "ipython3",
   "version": "3.5.3"
  }
 },
 "nbformat": 4,
 "nbformat_minor": 2
}
