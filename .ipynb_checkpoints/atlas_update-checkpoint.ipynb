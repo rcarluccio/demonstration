{
 "cells": [
  {
   "cell_type": "code",
   "execution_count": null,
   "metadata": {},
   "outputs": [],
   "source": [
    "from _atlas_update import update_atlas\n",
    "update_atlas()"
   ]
  },
  {
   "cell_type": "code",
   "execution_count": null,
   "metadata": {},
   "outputs": [],
   "source": [
    "sorted({'a', 'c', 'b'})"
   ]
  },
  {
   "cell_type": "code",
   "execution_count": null,
   "metadata": {},
   "outputs": [],
   "source": []
  },
  {
   "cell_type": "code",
   "execution_count": null,
   "metadata": {},
   "outputs": [],
   "source": [
    "import os\n",
    "import json\n",
    "\n",
    "hostdir = os.path.dirname(__file__)\n",
    "atlas_info_filename = os.path.join(hostdir, \"_atlas_info.json\")\n",
    "atlas_pages_dir = os.path.join(hostdir, 'pages')\n",
    "\n",
    "def make_page(path):\n",
    "    print(\"Making an html...\")\n",
    "    path_to_model = os.path.dirname(path)\n",
    "    filename = os.path.basename(path)\n",
    "    command = 'jupyter nbconvert --to html ' + path\n",
    "    os.system(command)\n",
    "    print(\"Done!\")\n",
    "\n",
    "def save_atlas_info(atlas_info):\n",
    "    atlas_info_items = sorted(atlas_info.items())\n",
    "    filename = os.path.join(hostdir, \"_atlas_info.json\")\n",
    "    with open(atlas_info_filename, 'w') as file:\n",
    "        json.dump(atlas_info_items, file)\n",
    "\n",
    "def load_atlas_info():\n",
    "    if os.path.exists(\"_atlas_info.json\"):\n",
    "        with open(atlas_info_filename, 'r') as file:\n",
    "            atlas_info_items = json.load(file)\n",
    "        atlas_info = dict(atlas_info_items)\n",
    "    else:\n",
    "        atlas_info = {'pages': []}\n",
    "    return atlas_info\n",
    "\n",
    "def update_atlas():\n",
    "    atlas_info = load_atlas_info()\n",
    "    directories = os.listdir(atlas_pages_dir)\n",
    "    for directory in sorted(directories):\n",
    "        model_directory = os.path.join(atlas_pages_dir, directory)\n",
    "        model_contents = os.listdir(model_directory)\n",
    "        for filename in sorted(model_contents):\n",
    "            name, extension = os.path.splitext(filename)\n",
    "            if extension == '.ipynb':\n",
    "                path_to_nb = os.path.join(atlas_pages_dir, directory, filename)\n",
    "                make_page(path_to_nb)\n",
    "                atlas_info['pages'].append(name + '.html')\n",
    "                break\n",
    "    save_atlas_info(atlas_info)\n",
    "\n",
    "update_atlas()"
   ]
  },
  {
   "cell_type": "code",
   "execution_count": null,
   "metadata": {},
   "outputs": [],
   "source": [
    "update_atlas()"
   ]
  },
  {
   "cell_type": "code",
   "execution_count": null,
   "metadata": {},
   "outputs": [],
   "source": [
    "atlas_info = load_atlas_info()"
   ]
  },
  {
   "cell_type": "code",
   "execution_count": null,
   "metadata": {},
   "outputs": [],
   "source": [
    "atlas_info"
   ]
  },
  {
   "cell_type": "code",
   "execution_count": null,
   "metadata": {},
   "outputs": [],
   "source": []
  }
 ],
 "metadata": {
  "kernelspec": {
   "display_name": "Python 3",
   "language": "python",
   "name": "python3"
  },
  "language_info": {
   "codemirror_mode": {
    "name": "ipython",
    "version": 3
   },
   "file_extension": ".py",
   "mimetype": "text/x-python",
   "name": "python",
   "nbconvert_exporter": "python",
   "pygments_lexer": "ipython3",
   "version": "3.5.3"
  }
 },
 "nbformat": 4,
 "nbformat_minor": 2
}
