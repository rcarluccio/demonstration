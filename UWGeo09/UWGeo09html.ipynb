{
 "cells": [
  {
   "cell_type": "raw",
   "metadata": {},
   "source": [
    "<head>\n",
    "<style>\n",
    ".all {\n",
    "  background-color: white;\n",
    "  color: white;\n",
    "  margin: 0px;\n",
    "  padding: 0px;\n",
    "  float: left;\n",
    "  width: 100%;\n",
    "}\n",
    ".thin {\n",
    "  width: 50%;\n",
    "}\n",
    "</style>\n",
    "</head>\n",
    "<body>\n",
    "<div class=\"all\">\n",
    "# UNDERWORLD + UWGEO\n",
    "## Extensional reactivation of continental margins\n",
    "### Amy I'Anson\n",
    "</div>\n",
    "<body>"
   ]
  },
  {
   "cell_type": "markdown",
   "metadata": {
    "cell_style": "center"
   },
   "source": [
    "# UNDERWORLD + UWGEO\n",
    "## Extensional reactivation of continental margins\n",
    "### Amy I'Anson"
   ]
  },
  {
   "cell_type": "markdown",
   "metadata": {},
   "source": [
    "Traditionally, mechanical sandbox models have been used to explore basin evolution under a variety of tectonic regimes. **UWGeo** makes it easy to create 'digital sandboxes', delivering equally credible observations in a more efficient manner."
   ]
  },
  {
   "cell_type": "markdown",
   "metadata": {
    "cell_style": "split"
   },
   "source": [
    "*Pinned on one side and pulled on the other, the subsequent extension reproduces the same distinctive pattern of grabens and half-grabens observed in real passive margins. The basement is given a much higher stress limit for plastic behaviour, causing it to remain ductile while the overburden fractures.*\n",
    "\n",
    "<img src=\"Tutorial_9.gif\" alt=\"Tutorial_9\" width=\"600\"/>"
   ]
  },
  {
   "cell_type": "markdown",
   "metadata": {
    "cell_style": "split"
   },
   "source": [
    "**Materials**\n",
    "\n",
    "| **Parameter** | **Sediment** | **Basement** |\n",
    "| --- | --- | --- |\n",
    "| *Density* | 2000 - 2800 kg / $m^3$ | 2500 - 2700 kg / $m^3$ | $10^{22}$ Pa.s |\n",
    "| *Viscosity* | $10^{22}$ Pa.s | $10^{22}$ Pa.s |\n",
    "| *Cohesion* | 30 MPa | 20 MPa |\n",
    "| *Stress limit* | 75 MPa | 150 MPa |\n",
    "\n",
    "**Boundary conditions**\n",
    "\n",
    "| **Variable** | **Condition** |\n",
    "| --- | --- |\n",
    "| *Temperature* | 293.15 - 1573.15 K |\n",
    "| *Velocity* | -3 - 0 cm/yr (walls), isostatic (floor) |"
   ]
  },
  {
   "cell_type": "markdown",
   "metadata": {},
   "source": [
    "*The model setup is strictly empirical, with realistic density gradients and material-dependent rheology, allowing for detailed reproduction of genuine geological situations without compromising on performance or ease of use.*\n",
    "\n",
    "<img src=\"LAnson2018.png\" alt=\"LAnson2018\" width=\"1000\"/>"
   ]
  }
 ],
 "metadata": {
  "hide_input": true,
  "kernelspec": {
   "display_name": "Python 3",
   "language": "python",
   "name": "python3"
  },
  "language_info": {
   "codemirror_mode": {
    "name": "ipython",
    "version": 3
   },
   "file_extension": ".py",
   "mimetype": "text/x-python",
   "name": "python",
   "nbconvert_exporter": "python",
   "pygments_lexer": "ipython3",
   "version": "3.5.3"
  }
 },
 "nbformat": 4,
 "nbformat_minor": 2
}
