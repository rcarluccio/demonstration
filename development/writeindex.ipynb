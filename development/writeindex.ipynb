{
 "cells": [
  {
   "cell_type": "code",
   "execution_count": 2,
   "metadata": {},
   "outputs": [],
   "source": [
    "import json"
   ]
  },
  {
   "cell_type": "code",
   "execution_count": 15,
   "metadata": {},
   "outputs": [],
   "source": [
    "atlas_info_filename = 'atlas/_atlas_info.json'\n",
    "with open(atlas_info_filename, 'r') as file:\n",
    "    atlas_info_items = json.load(file)\n",
    "atlas_info = dict(atlas_info_items)"
   ]
  },
  {
   "cell_type": "code",
   "execution_count": 16,
   "metadata": {},
   "outputs": [
    {
     "data": {
      "text/plain": [
       "['https://rsbyrne.github.io/demonstration/atlas/pages/UWGeo01/UWGeo01.html',\n",
       " 'https://rsbyrne.github.io/demonstration/atlas/pages/UWGeo09/UWGeo09.html',\n",
       " 'https://rsbyrne.github.io/demonstration/atlas/pages/UWGeo10/UWGeo10.html',\n",
       " 'https://rsbyrne.github.io/demonstration/atlas/pages/UWGeo11/UWGeo11.html',\n",
       " 'https://rsbyrne.github.io/demonstration/atlas/pages/example/example.html']"
      ]
     },
     "execution_count": 16,
     "metadata": {},
     "output_type": "execute_result"
    }
   ],
   "source": [
    "atlas_info['pages']"
   ]
  },
  {
   "cell_type": "code",
   "execution_count": 52,
   "metadata": {},
   "outputs": [],
   "source": [
    "with open('testfile.txt', 'w') as file:\n",
    "    file.write(\"Hello world!\")"
   ]
  },
  {
   "cell_type": "code",
   "execution_count": 49,
   "metadata": {},
   "outputs": [],
   "source": [
    "import os\n",
    "text = '<html><body>'\n",
    "text += '<p><h1>BGH Atlas prototype</h1></p>'\n",
    "text += '<p><h2>MODELS</h2></p>'\n",
    "for htmlpage in sorted(atlas_info['pages']):\n",
    "    modelname, ext = os.path.splitext(os.path.basename(htmlpage))\n",
    "    text += '<p>'\n",
    "    text += '<a href=\"'\n",
    "    text += htmlpage\n",
    "    text += '\">'\n",
    "    text += modelname\n",
    "    text += '</a>'\n",
    "    text += '</p>'\n",
    "text += '</body></html>'"
   ]
  },
  {
   "cell_type": "code",
   "execution_count": 50,
   "metadata": {},
   "outputs": [
    {
     "name": "stdout",
     "output_type": "stream",
     "text": [
      "<html><body><p><h1>BGH Atlas prototype</h1></p><p><h2>MODELS</h2></p><p><a href=\"https://rsbyrne.github.io/demonstration/atlas/pages/UWGeo01/UWGeo01.html\">UWGeo01</a></p><p><a href=\"https://rsbyrne.github.io/demonstration/atlas/pages/UWGeo09/UWGeo09.html\">UWGeo09</a></p><p><a href=\"https://rsbyrne.github.io/demonstration/atlas/pages/UWGeo10/UWGeo10.html\">UWGeo10</a></p><p><a href=\"https://rsbyrne.github.io/demonstration/atlas/pages/UWGeo11/UWGeo11.html\">UWGeo11</a></p><p><a href=\"https://rsbyrne.github.io/demonstration/atlas/pages/example/example.html\">example</a></p></body></html>\n"
     ]
    }
   ],
   "source": [
    "print(text)"
   ]
  },
  {
   "cell_type": "markdown",
   "metadata": {},
   "source": [
    "<html><body><p><h1>BGH Atlas prototype</h1></p><p><h2>MODELS</h2></p><p><a href=\"https://rsbyrne.github.io/demonstration/atlas/pages/UWGeo01/UWGeo01.html\">UWGeo01</a></p><p><a href=\"https://rsbyrne.github.io/demonstration/atlas/pages/UWGeo09/UWGeo09.html\">UWGeo09</a></p><p><a href=\"https://rsbyrne.github.io/demonstration/atlas/pages/UWGeo10/UWGeo10.html\">UWGeo10</a></p><p><a href=\"https://rsbyrne.github.io/demonstration/atlas/pages/UWGeo11/UWGeo11.html\">UWGeo11</a></p><p><a href=\"https://rsbyrne.github.io/demonstration/atlas/pages/example/example.html\">example</a></p></body></html>\n"
   ]
  },
  {
   "cell_type": "code",
   "execution_count": null,
   "metadata": {},
   "outputs": [],
   "source": []
  }
 ],
 "metadata": {
  "kernelspec": {
   "display_name": "Python 3",
   "language": "python",
   "name": "python3"
  },
  "language_info": {
   "codemirror_mode": {
    "name": "ipython",
    "version": 3
   },
   "file_extension": ".py",
   "mimetype": "text/x-python",
   "name": "python",
   "nbconvert_exporter": "python",
   "pygments_lexer": "ipython3",
   "version": "3.5.3"
  }
 },
 "nbformat": 4,
 "nbformat_minor": 2
}
