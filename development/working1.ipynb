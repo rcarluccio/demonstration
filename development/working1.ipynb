{
 "cells": [
  {
   "cell_type": "code",
   "execution_count": 2,
   "metadata": {},
   "outputs": [],
   "source": [
    "import json"
   ]
  },
  {
   "cell_type": "code",
   "execution_count": 19,
   "metadata": {},
   "outputs": [],
   "source": [
    "with open('behindthescenes.ipynb') as file:\n",
    "    nbdict = json.load(file)"
   ]
  },
  {
   "cell_type": "code",
   "execution_count": 21,
   "metadata": {},
   "outputs": [
    {
     "data": {
      "text/plain": [
       "[{'cell_type': 'raw', 'metadata': {}, 'source': ['This is some text.']},\n",
       " {'cell_type': 'markdown', 'metadata': {}, 'source': ['What is this?']},\n",
       " {'cell_type': 'markdown',\n",
       "  'metadata': {'This is some metadata': 'this is the data in the metadata'},\n",
       "  'source': ['Where am I?']},\n",
       " {'cell_type': 'markdown', 'metadata': {}, 'source': ['What is happening?']}]"
      ]
     },
     "execution_count": 21,
     "metadata": {},
     "output_type": "execute_result"
    }
   ],
   "source": [
    "nbdict['cells']"
   ]
  },
  {
   "cell_type": "raw",
   "metadata": {
    "raw_mimetype": "text/html"
   },
   "source": []
  },
  {
   "cell_type": "code",
   "execution_count": null,
   "metadata": {},
   "outputs": [],
   "source": []
  },
  {
   "cell_type": "markdown",
   "metadata": {},
   "source": [
    "<style>\n",
    "    div.cell{\n",
    "        width:50%;\n",
    "        float:left\n",
    "    }\n",
    "</style>\n",
    "This is a markdown cell."
   ]
  },
  {
   "cell_type": "markdown",
   "metadata": {},
   "source": [
    "<style>\n",
    "    {\n",
    "        width:100%;\n",
    "        float:left\n",
    "    }\n",
    "</style>\n",
    "This is another markdown cell."
   ]
  }
 ],
 "metadata": {
  "celltoolbar": "Edit Metadata",
  "kernelspec": {
   "display_name": "Python 3",
   "language": "python",
   "name": "python3"
  },
  "language_info": {
   "codemirror_mode": {
    "name": "ipython",
    "version": 3
   },
   "file_extension": ".py",
   "mimetype": "text/x-python",
   "name": "python",
   "nbconvert_exporter": "python",
   "pygments_lexer": "ipython3",
   "version": "3.7.3"
  }
 },
 "nbformat": 4,
 "nbformat_minor": 2
}
