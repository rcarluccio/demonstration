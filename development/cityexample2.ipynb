{
 "cells": [
  {
   "cell_type": "markdown",
   "metadata": {},
   "source": [
    "<html>\n",
    "<head>\n",
    "<style>\n",
    ".cities {\n",
    "  background-color: black;\n",
    "  color: white;\n",
    "  margin: 0px;\n",
    "  padding: 0px;\n",
    "  float: left;\n",
    "  width: 100%;\n",
    "}\n",
    ".thin {\n",
    "  width: 50%;\n",
    "}\n",
    "</style>\n",
    "</head>\n",
    "<body>\n",
    "\n",
    "<div class=\"cities thin\">\n",
    "  <h2>London</h2>\n",
    "  <p>London is the capital of England.</p>\n",
    "</div>\n",
    "\n",
    "<div class=\"cities thin\">\n",
    "  <h2>Paris</h2>\n",
    "  <p>Paris is the capital of France.</p>\n",
    "</div>\n",
    "\n",
    "<div class=\"cities\">\n",
    "  <h2>Tokyo</h2>\n",
    "  <p>Tokyo is the capital of Japan.</p>\n",
    "</div>\n",
    "\n",
    "</body>\n",
    "</html>"
   ]
  },
  {
   "cell_type": "markdown",
   "metadata": {},
   "source": [
    "<div class=\"cities thin\">\n",
    "  <h2>London</h2>\n",
    "  <p>London is the capital of England.</p>\n",
    "</div>"
   ]
  },
  {
   "cell_type": "markdown",
   "metadata": {},
   "source": [
    "<div class=\"cities thin\">\n",
    "  <h2>Paris</h2>\n",
    "  <p>Paris is the capital of France.</p>\n",
    "</div>"
   ]
  },
  {
   "cell_type": "code",
   "execution_count": null,
   "metadata": {},
   "outputs": [],
   "source": []
  }
 ],
 "metadata": {
  "kernelspec": {
   "display_name": "Python 3",
   "language": "python",
   "name": "python3"
  },
  "language_info": {
   "codemirror_mode": {
    "name": "ipython",
    "version": 3
   },
   "file_extension": ".py",
   "mimetype": "text/x-python",
   "name": "python",
   "nbconvert_exporter": "python",
   "pygments_lexer": "ipython3",
   "version": "3.5.3"
  }
 },
 "nbformat": 4,
 "nbformat_minor": 2
}
