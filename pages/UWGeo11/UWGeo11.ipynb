{
 "cells": [
  {
   "cell_type": "raw",
   "metadata": {
    "raw_mimetype": "text/html"
   },
   "source": [
    "<style>\n",
    "    div.cell{\n",
    "        float:left;\n",
    "        width:50%;\n",
    "    }\n",
    "</style>"
   ]
  },
  {
   "cell_type": "markdown",
   "metadata": {
    "cell_style": "center"
   },
   "source": [
    "# UNDERWORLD + BADLANDS\n",
    "## Coupling thermo-mechanics with surface processes\n",
    "### Romain Beucher\n",
    "\n",
    "Underworld's **Geodynamics** module couples well with **Badlands**, facilitating the rapid design and implementation of complex coupled models. This model demonstrates the feedbacks between erosional and isostatic drivers in a classic rifting scenario, using empirically-derived parameters and rheologies.\n",
    "\n",
    "![Tutorial11.gif](Tutorial11.gif)\n",
    "\n",
    "*As the rift deepens due to extension applied at the boundaries, a slope steepness threshold is eventually reached where sedimentary transport into the newly-formed basin rapidly increases.*"
   ]
  },
  {
   "cell_type": "markdown",
   "metadata": {
    "cell_style": "center"
   },
   "source": [
    "**Material parameters and rheology (sediments)**\n",
    "\n",
    "| **Parameter** | **Value** |\n",
    "| --- | --- |\n",
    "| *Density* | Constant (2300.0 kilogram / meter ** 3) |\n",
    "| *Radiogenic* | 0.6 microwatt / meter ** 3 |\n",
    "| *Diffusivity* | 1e-06 meter ** 2 / second |\n",
    "| *Capacity* | 1000.0 joule / kelvin / kilogram |\n",
    "| *Min Visc.* | None |\n",
    "| *Max Visc.* | None |\n",
    "| *Creep viscosity* | Wet Quartz, Viscous Dislocation Creep, <br> Gleason and Tullis, 1995 |\n",
    "| *Plastic viscosity* | Huismans et al. 2011, (Crust) |\n",
    "\n",
    "*The model design is a layer-cake comprising the mantle, mantle lithosphere, upper crust, sediments, and a fictional 'sticky air' layer. A 'damage' parameter supports history-dependent viscosity; some initial weakness is prescribed to trigger rifting.*\n",
    "\n",
    "![tutorial11viscosity.png](tutorial11viscosity.png)\n",
    "![damage.png](damage.png)"
   ]
  }
 ],
 "metadata": {
  "celltoolbar": "Edit Metadata",
  "hide_input": true,
  "kernelspec": {
   "display_name": "Python 3",
   "language": "python",
   "name": "python3"
  },
  "language_info": {
   "codemirror_mode": {
    "name": "ipython",
    "version": 3
   },
   "file_extension": ".py",
   "mimetype": "text/x-python",
   "name": "python",
   "nbconvert_exporter": "python",
   "pygments_lexer": "ipython3",
   "version": "3.5.3"
  }
 },
 "nbformat": 4,
 "nbformat_minor": 2
}
