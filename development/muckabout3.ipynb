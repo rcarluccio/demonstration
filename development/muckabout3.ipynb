{
 "cells": [
  {
   "cell_type": "raw",
   "metadata": {},
   "source": [
    "var get_cell_style_html = function(cell_style){\n",
    "    if (cell_style == \"split\")\n",
    "        {return \"float:left; width:50%;\";}\n",
    "    return \"width:100%;\";\n",
    "};\n",
    "\n",
    "var update_cell_style_element = function(cell){\n",
    "    var cell_style_html = get_cell_style_html(cell.metadata.cell_style);\n",
    "    cell.element.attr('style', cell_style_html);\n",
    "};\n",
    "\n",
    "function initialize () {\n",
    "    // On Load lets set the cell styles correctly\n",
    "    var cells = Jupyter.notebook.get_cells();\n",
    "    var ncells = Jupyter.notebook.ncells();\n",
    "\n",
    "    for (var i=0; i<ncells; i++){\n",
    "        var cell = cells[i];\n",
    "        if (\"cell_style\" in cell.metadata){\n",
    "            update_cell_style_element(cell, cell.metadata.cell_style);\n",
    "        }\n",
    "     }\n",
    "}\n",
    "\n",
    "initialize()"
   ]
  },
  {
   "cell_type": "code",
   "execution_count": 1,
   "metadata": {
    "cell_style": "split"
   },
   "outputs": [
    {
     "name": "stdout",
     "output_type": "stream",
     "text": [
      "Hello world!\n"
     ]
    }
   ],
   "source": [
    "print(\"Hello world!\")"
   ]
  },
  {
   "cell_type": "markdown",
   "metadata": {},
   "source": [
    "What's up?"
   ]
  },
  {
   "cell_type": "markdown",
   "metadata": {
    "cell_style": "split"
   },
   "source": [
    "Foo bar!"
   ]
  },
  {
   "cell_type": "markdown",
   "metadata": {
    "cell_style": "split"
   },
   "source": [
    "Hello!"
   ]
  },
  {
   "cell_type": "markdown",
   "metadata": {},
   "source": [
    "How's it going?"
   ]
  }
 ],
 "metadata": {
  "celltoolbar": "Edit Metadata",
  "kernelspec": {
   "display_name": "Python 3",
   "language": "python",
   "name": "python3"
  },
  "language_info": {
   "codemirror_mode": {
    "name": "ipython",
    "version": 3
   },
   "file_extension": ".py",
   "mimetype": "text/x-python",
   "name": "python",
   "nbconvert_exporter": "python",
   "pygments_lexer": "ipython3",
   "version": "3.5.3"
  }
 },
 "nbformat": 4,
 "nbformat_minor": 2
}
